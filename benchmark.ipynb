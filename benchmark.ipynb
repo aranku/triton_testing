{
 "cells": [
  {
   "cell_type": "code",
   "execution_count": 12,
   "id": "43ca4438-7b39-45e9-a542-3d341ff732db",
   "metadata": {},
   "outputs": [],
   "source": [
    "import pytest\n",
    "import torch\n",
    "from torch import einsum, nn\n",
    "import triton\n",
    "import triton.language as tl\n",
    "from triton_testing.multihead_attention import multihead_flash_attention\n",
    "from triton_testing.multiquery_attention import multiquery_flash_attention\n",
    "from triton_testing.query_norm import fused_query_norm, naive_query_norm"
   ]
  },
  {
   "cell_type": "code",
   "execution_count": 13,
   "id": "2b520c8b-0105-46c6-bf96-4db1a962ea68",
   "metadata": {},
   "outputs": [],
   "source": [
    "def test_multiquery_op(BATCH, H, N_CTX, D_HEAD, dtype=torch.float16):\n",
    "    torch.manual_seed(20)\n",
    "    q = torch.randn((BATCH, H, N_CTX, D_HEAD), dtype=dtype, device=\"cuda\", requires_grad=True)\n",
    "    k = torch.randn((BATCH, N_CTX, D_HEAD), dtype=dtype, device=\"cuda\", requires_grad=True)\n",
    "    v = torch.randn((BATCH, N_CTX, D_HEAD), dtype=dtype, device=\"cuda\", requires_grad=True)\n",
    "    # triton implementation\n",
    "    tri_out = multiquery_flash_attention(q, k, v)\n",
    "    # reference implementation\n",
    "    k = k.view(BATCH, N_CTX, 1, D_HEAD).transpose(1, 2).repeat(1,H,1,1) # (B, nh, T, hs)\n",
    "    v = v.view(BATCH, N_CTX, 1, D_HEAD).transpose(1, 2).repeat(1,H,1,1) # (B, nh, T, hs)\n",
    "    ref_out = multihead_flash_attention(q,k,v)\n",
    "    # compare\n",
    "    triton.testing.assert_almost_equal(ref_out, tri_out)\n",
    "    print(\"Passed all equality checks\")"
   ]
  },
  {
   "cell_type": "code",
   "execution_count": 14,
   "id": "ed072d7d-a918-44bd-a1e6-7864c628e3d1",
   "metadata": {},
   "outputs": [
    {
     "name": "stdout",
     "output_type": "stream",
     "text": [
      "Passed\n"
     ]
    }
   ],
   "source": [
    "test_multiquery_op(3, 2, 2048, 64)"
   ]
  },
  {
   "cell_type": "code",
   "execution_count": 15,
   "id": "267d9f74-40e5-420d-9e3a-ed42c02d2796",
   "metadata": {},
   "outputs": [],
   "source": [
    "BATCH, N_HEADS, N_CTX, D_HEAD = 4, 24, 2048, 64\n",
    "# vary seq length for fixed head and batch=4\n",
    "configs = [triton.testing.Benchmark(\n",
    "    x_names=['N_CTX'],\n",
    "    x_vals=[2**i for i in range(10, 16)],\n",
    "    line_arg='provider',\n",
    "    line_vals=['multiquery_flash_attention','multihead_flash_attention'],\n",
    "    line_names=['Multiquery Attention','Multihead Attention'],\n",
    "    styles=[('red', '-'), ('blue', '-'), ('green', '-')],\n",
    "    ylabel='ms',\n",
    "    plot_name=f'fused-attention-batch{BATCH}-head{N_HEADS}-d{D_HEAD}-{mode}',\n",
    "    args={'H': N_HEADS, 'BATCH': BATCH, 'D_HEAD': D_HEAD, 'dtype': torch.float16, 'mode': mode}\n",
    ") for mode in ['fwd']]\n",
    "\n",
    "\n",
    "@triton.testing.perf_report(configs)\n",
    "def bench_flash_multiquery_attention(BATCH, H, N_CTX, D_HEAD, mode, provider, dtype=torch.float16, device=\"cuda\"):\n",
    "    assert mode in ['fwd', 'bwd']\n",
    "    warmup = 25\n",
    "    rep = 100\n",
    "    if provider == \"multiquery_flash_attention\":\n",
    "        q = torch.randn((BATCH, H, N_CTX, D_HEAD), dtype=dtype, device=\"cuda\", requires_grad=True)\n",
    "        k = torch.randn((BATCH, N_CTX, D_HEAD), dtype=dtype, device=\"cuda\", requires_grad=True)\n",
    "        v = torch.randn((BATCH, N_CTX, D_HEAD), dtype=dtype, device=\"cuda\", requires_grad=True)\n",
    "        fn = lambda: multiquery_flash_attention(q, k, v)\n",
    "        ms = triton.testing.do_bench(fn, percentiles=None, warmup=warmup, rep=rep)\n",
    "        return ms\n",
    "    if provider == \"multihead_flash_attention\":\n",
    "        q = torch.randn((BATCH, H, N_CTX, D_HEAD), dtype=dtype, device=\"cuda\", requires_grad=True)\n",
    "        k = torch.randn((BATCH, N_CTX, D_HEAD), dtype=dtype, device=\"cuda\", requires_grad=True)\n",
    "        v = torch.randn((BATCH, N_CTX, D_HEAD), dtype=dtype, device=\"cuda\", requires_grad=True)\n",
    "        k = k.view(BATCH, N_CTX, 1, D_HEAD).transpose(1, 2).repeat(1,H,1,1) # (B, nh, T, hs)\n",
    "        v = v.view(BATCH, N_CTX, 1, D_HEAD).transpose(1, 2).repeat(1,H,1,1) # (B, nh, T, hs)\n",
    "        fn = lambda: multihead_flash_attention(q, k, v)\n",
    "        ms = triton.testing.do_bench(fn, percentiles=None, warmup=warmup, rep=rep)\n",
    "        return ms"
   ]
  },
  {
   "cell_type": "code",
   "execution_count": 9,
   "id": "c9f4ce5f-530f-4cf5-a156-47f9e3944223",
   "metadata": {},
   "outputs": [
    {
     "name": "stdout",
     "output_type": "stream",
     "text": [
      "fused-attention-batch4-head24-d64-fwd:\n",
      "     N_CTX  Multiquery Attention  Multihead Attention\n",
      "0   1024.0              0.194086             0.185031\n",
      "1   2048.0              0.534675             0.551729\n",
      "2   4096.0              1.857497             1.892785\n",
      "3   8192.0              6.931968             6.980827\n",
      "4  16384.0             26.821632            26.874197\n",
      "5  32768.0            105.346046           105.565186\n"
     ]
    },
    {
     "data": {
      "image/png": "[encoded data removed]",
      "text/plain": [
       "<Figure size 432x288 with 1 Axes>"
      ]
     },
     "metadata": {
      "needs_background": "light"
     },
     "output_type": "display_data"
    }
   ],
   "source": [
    "bench_flash_multiquery_attention.run(save_path='.', print_data=True)"
   ]
  },
  {
   "cell_type": "code",
   "execution_count": 16,
   "id": "eccfc6fc-8512-492a-86bc-b52b0ff2bd48",
   "metadata": {},
   "outputs": [],
   "source": [
    "def test_querynorm_op(BATCH, H, N_CTX, D_HEAD, dtype=torch.float32):\n",
    "    torch.manual_seed(20)\n",
    "    q = torch.randn((BATCH, H, N_CTX, D_HEAD), dtype=dtype, device=\"cuda\", requires_grad=True)\n",
    "    w = torch.randn((1,H,1,1), dtype=dtype, device=\"cuda\", requires_grad=True)\n",
    "    b = torch.randn((1,H,1,1), dtype=dtype, device=\"cuda\", requires_grad=True)\n",
    "    dy = .1 * torch.randn_like(q)\n",
    "    eps = 1e-6\n",
    "    # naive torch implementation\n",
    "    naive_out = naive_query_norm(q, w, b, eps)\n",
    "    # triton implementation\n",
    "    tri_out = fused_query_norm(q, w.flatten(), b.flatten(), eps)\n",
    "    tri_out.backward(dy, retain_graph=True)\n",
    "    dq_tri, dw_tri, db_tri = [_.grad.clone() for _ in [q, w, b]]\n",
    "    q.grad, w.grad, b.grad = None, None, None\n",
    "    # backward pass (torch)\n",
    "    naive_out.backward(dy, retain_graph=True)\n",
    "    dq_ref, dw_ref, db_ref = [_.grad.clone() for _ in [q, w, b]]\n",
    "    # compare\n",
    "    triton.testing.assert_almost_equal(naive_out, tri_out)\n",
    "    triton.testing.assert_almost_equal(dq_tri, dq_ref)\n",
    "    triton.testing.assert_almost_equal(db_tri, db_ref)\n",
    "    triton.testing.assert_almost_equal(dw_tri, dw_ref)\n",
    "    print(\"Passed all equality checks\")"
   ]
  },
  {
   "cell_type": "code",
   "execution_count": 17,
   "id": "2ddc9dde-1f97-428e-bae8-dfda3e24de18",
   "metadata": {},
   "outputs": [],
   "source": [
    "test_querynorm_op(3, 2, 2048, 64)"
   ]
  },
  {
   "cell_type": "code",
   "execution_count": 20,
   "id": "2635e9f7-5cca-4627-90b4-fadc6c3fa523",
   "metadata": {},
   "outputs": [],
   "source": [
    "BATCH, N_HEADS, N_CTX, D_HEAD = 4, 24, 2048, 64\n",
    "configs = [triton.testing.Benchmark(\n",
    "    x_names=['D_HEAD'],\n",
    "    x_vals=[512 * i for i in range(2, 16)],\n",
    "    line_arg='provider',\n",
    "    line_vals=['triton', 'torch'],\n",
    "    line_names=['Triton QueryNorm', 'Torch QueryNorm'],\n",
    "    styles=[('blue', '-'), ('green', '-')],\n",
    "    ylabel='GB/s',\n",
    "    plot_name=f'query-norm-{mode}',\n",
    "    args={'H': N_HEADS, 'BATCH': BATCH, 'N_CTX': N_CTX, 'dtype': torch.float16, 'mode': mode}\n",
    ") for mode in ['forward', 'backward']]\n",
    "\n",
    "@triton.testing.perf_report(configs)\n",
    "def bench_query_norm(BATCH, H, N_CTX, D_HEAD, dtype, provider, mode='forward', eps=1e-5, device='cuda'):\n",
    "    # create data\n",
    "    q_shape = (BATCH, H, N_CTX, D_HEAD)\n",
    "    w_shape = (1,H,1,1)\n",
    "    w = torch.randn(w_shape, dtype=dtype, device=\"cuda\", requires_grad=True)\n",
    "    b = torch.randn(w_shape, dtype=dtype, device=\"cuda\", requires_grad=True)\n",
    "    q = torch.randn(q_shape, dtype=dtype, device='cuda')\n",
    "    q.requires_grad_(True)\n",
    "    dy = .1 * torch.randn_like(q)\n",
    "    eps = 1e-5\n",
    "    # utility functions\n",
    "    if provider == 'triton':\n",
    "        y_fwd = lambda: fused_query_norm(q, w.flatten(), b.flatten(), eps)\n",
    "    if provider == 'torch':\n",
    "        y_fwd = lambda: naive_query_norm(q, w, b, eps)\n",
    "    # forward pass\n",
    "    if mode == 'forward':\n",
    "        gbps = lambda ms: 2 * q.numel() * q.element_size() / ms * 1e-6\n",
    "        ms, min_ms, max_ms = triton.testing.do_bench(y_fwd, rep=500)\n",
    "    # backward pass\n",
    "    if mode == 'backward':\n",
    "        gbps = lambda ms: 3 * q.numel() * q.element_size() / ms * 1e-6\n",
    "        y = y_fwd()\n",
    "        ms, min_ms, max_ms = triton.testing.do_bench(lambda: y.backward(dy, retain_graph=True),\n",
    "                                                     grad_to_none=[q], rep=500)\n",
    "    return gbps(ms), gbps(max_ms), gbps(min_ms)"
   ]
  },
  {
   "cell_type": "code",
   "execution_count": 21,
   "id": "a82c9679-b363-4a14-b88c-c590611f5b64",
   "metadata": {},
   "outputs": [
    {
     "name": "stdout",
     "output_type": "stream",
     "text": [
      "query-norm-forward:\n",
      "    D_HEAD  Triton QueryNorm  Torch QueryNorm\n",
      "0   1024.0       1330.680162       185.042813\n",
      "1   1536.0       1147.517479       187.364677\n",
      "2   2048.0       1357.087170       188.006696\n",
      "3   2560.0       1285.019601       188.484325\n",
      "4   3072.0       1354.360511       189.334401\n",
      "5   3584.0       1374.881043       189.645306\n",
      "6   4096.0       1393.147941       187.435371\n",
      "7   4608.0       1318.042480       190.347676\n",
      "8   5120.0       1353.117683       190.705666\n",
      "9   5632.0       1334.580686       189.684521\n",
      "10  6144.0       1383.751365       190.365599\n",
      "11  6656.0       1386.441046       190.525824\n",
      "12  7168.0       1391.211490       190.620469\n",
      "13  7680.0       1350.638896       190.739581\n",
      "query-norm-backward:\n",
      "    D_HEAD  Triton QueryNorm  Torch QueryNorm\n",
      "0   1024.0       1170.285724        99.725083\n",
      "1   1536.0       1226.245284       100.247696\n",
      "2   2048.0       1259.634849       100.622513\n",
      "3   2560.0       1289.514675       100.631952\n",
      "4   3072.0       1294.893482       100.933888\n",
      "5   3584.0       1298.763136       100.901003\n",
      "6   4096.0       1305.461830       101.131463\n",
      "7   4608.0       1286.576762       100.996298\n",
      "8   5120.0       1309.555998       100.655994\n",
      "9   5632.0       1327.345345       100.710364\n",
      "10  6144.0       1341.525366       100.966285\n",
      "11  6656.0       1334.675670       100.940092\n",
      "12  7168.0       1334.012256       100.931832\n",
      "13  7680.0       1333.036008       100.839553\n"
     ]
    },
    {
     "data": {
      "image/png": "[encoded data removed]",
      "text/plain": [
       "<Figure size 432x288 with 1 Axes>"
      ]
     },
     "metadata": {
      "needs_background": "light"
     },
     "output_type": "display_data"
    },
    {
     "data": {
      "image/png": "[encoded data removed]",
      "text/plain": [
       "<Figure size 432x288 with 1 Axes>"
      ]
     },
     "metadata": {
      "needs_background": "light"
     },
     "output_type": "display_data"
    }
   ],
   "source": [
    "bench_query_norm.run(save_path='.', print_data=True)"
   ]
  },
  {
   "cell_type": "code",
   "execution_count": null,
   "id": "61197377-b555-45fb-bb22-502cb26376a0",
   "metadata": {},
   "outputs": [],
   "source": []
  }
 ],
 "metadata": {
  "kernelspec": {
   "display_name": "Python 3",
   "language": "python",
   "name": "python3"
  },
  "language_info": {
   "codemirror_mode": {
    "name": "ipython",
    "version": 3
   },
   "file_extension": ".py",
   "mimetype": "text/x-python",
   "name": "python",
   "nbconvert_exporter": "python",
   "pygments_lexer": "ipython3",
   "version": "3.8.10"
  }
 },
 "nbformat": 4,
 "nbformat_minor": 5
}
